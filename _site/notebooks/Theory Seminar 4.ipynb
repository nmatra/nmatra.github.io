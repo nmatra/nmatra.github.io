{
 "cells": [
  {
   "cell_type": "markdown",
   "metadata": {},
   "source": [
    "**Selection sort**"
   ]
  },
  {
   "cell_type": "code",
   "execution_count": 11,
   "metadata": {},
   "outputs": [
    {
     "name": "stdout",
     "output_type": "stream",
     "text": [
      "Sorted array\n",
      "11\n",
      "12\n",
      "22\n",
      "25\n",
      "64\n"
     ]
    }
   ],
   "source": [
    "# Python program for implementation of Selection \n",
    "# Sort \n",
    "import sys \n",
    "A = [64, 25, 12, 22, 11] \n",
    "\n",
    "# Traverse through all array elements \n",
    "for i in range(len(A)): \n",
    "\t\n",
    "\t# Find the minimum element in remaining \n",
    "\t# unsorted array \n",
    "\tmin_idx = i \n",
    "\tfor j in range(i+1, len(A)): \n",
    "\t\tif A[min_idx] > A[j]: \n",
    "\t\t\tmin_idx = j \n",
    "\t\t\t\n",
    "\t# Swap the found minimum element with \n",
    "\t# the first element\t\t \n",
    "\tA[i], A[min_idx] = A[min_idx], A[i] \n",
    "\n",
    "# Driver code to test above \n",
    "print (\"Sorted array\") \n",
    "for i in range(len(A)): \n",
    "\tprint(\"%d\" %A[i]), \n"
   ]
  },
  {
   "cell_type": "markdown",
   "metadata": {},
   "source": [
    "**Bubble sort**\n"
   ]
  },
  {
   "cell_type": "code",
   "execution_count": 12,
   "metadata": {},
   "outputs": [
    {
     "name": "stdout",
     "output_type": "stream",
     "text": [
      "Sorted array is:\n",
      "11\n",
      "12\n",
      "22\n",
      "25\n",
      "34\n",
      "64\n",
      "90\n"
     ]
    }
   ],
   "source": [
    "# Python program for implementation of Bubble Sort\n",
    "\n",
    "def bubbleSort(arr):\n",
    "\tn = len(arr)\n",
    "\n",
    "\t# Traverse through all array elements\n",
    "\tfor i in range(n):\n",
    "\n",
    "\t\t# Last i elements are already in place\n",
    "\t\tfor j in range(0, n-i-1):\n",
    "\n",
    "\t\t\t# traverse the array from 0 to n-i-1\n",
    "\t\t\t# Swap if the element found is greater\n",
    "\t\t\t# than the next element\n",
    "\t\t\tif arr[j] > arr[j+1] :\n",
    "\t\t\t\tarr[j], arr[j+1] = arr[j+1], arr[j]\n",
    "\n",
    "# Driver code to test above\n",
    "arr = [64, 34, 25, 12, 22, 11, 90]\n",
    "\n",
    "bubbleSort(arr)\n",
    "\n",
    "print (\"Sorted array is:\")\n",
    "for i in range(len(arr)):\n",
    "\tprint (\"%d\" %arr[i]), \n"
   ]
  },
  {
   "cell_type": "code",
   "execution_count": 14,
   "metadata": {},
   "outputs": [
    {
     "name": "stdout",
     "output_type": "stream",
     "text": [
      "5\n",
      "6\n",
      "11\n",
      "12\n",
      "13\n"
     ]
    }
   ],
   "source": [
    "# Python program for implementation of Insertion Sort \n",
    "\n",
    "# Function to do insertion sort \n",
    "def insertionSort(arr): \n",
    "\n",
    "\t# Traverse through 1 to len(arr) \n",
    "\tfor i in range(1, len(arr)): \n",
    "\n",
    "\t\tkey = arr[i] \n",
    "\n",
    "\t\t# Move elements of arr[0..i-1], that are \n",
    "\t\t# greater than key, to one position ahead \n",
    "\t\t# of their current position \n",
    "\t\tj = i-1\n",
    "\t\twhile j >=0 and key < arr[j] : \n",
    "\t\t\t\tarr[j+1] = arr[j] \n",
    "\t\t\t\tj -= 1\n",
    "\t\tarr[j+1] = key \n",
    "\n",
    "\n",
    "# Driver code to test above \n",
    "arr = [12, 11, 13, 5, 6] \n",
    "insertionSort(arr) \n",
    "for i in range(len(arr)): \n",
    "\tprint (\"%d\" %arr[i]) \n"
   ]
  },
  {
   "cell_type": "code",
   "execution_count": 15,
   "metadata": {},
   "outputs": [
    {
     "name": "stdout",
     "output_type": "stream",
     "text": [
      "Given array is\n",
      "12 11 13 5 6 7 \n",
      "Sorted array is: \n",
      "5 6 7 11 12 13 \n"
     ]
    }
   ],
   "source": [
    "# Python program for implementation of MergeSort \n",
    "def mergeSort(arr): \n",
    "\tif len(arr) >1: \n",
    "\t\tmid = len(arr)//2 #Finding the mid of the array \n",
    "\t\tL = arr[:mid] # Dividing the array elements \n",
    "\t\tR = arr[mid:] # into 2 halves \n",
    "\n",
    "\t\tmergeSort(L) # Sorting the first half \n",
    "\t\tmergeSort(R) # Sorting the second half \n",
    "\n",
    "\t\ti = j = k = 0\n",
    "\t\t\n",
    "\t\t# Copy data to temp arrays L[] and R[] \n",
    "\t\twhile i < len(L) and j < len(R): \n",
    "\t\t\tif L[i] < R[j]: \n",
    "\t\t\t\tarr[k] = L[i] \n",
    "\t\t\t\ti+=1\n",
    "\t\t\telse: \n",
    "\t\t\t\tarr[k] = R[j] \n",
    "\t\t\t\tj+=1\n",
    "\t\t\tk+=1\n",
    "\t\t\n",
    "\t\t# Checking if any element was left \n",
    "\t\twhile i < len(L): \n",
    "\t\t\tarr[k] = L[i] \n",
    "\t\t\ti+=1\n",
    "\t\t\tk+=1\n",
    "\t\t\n",
    "\t\twhile j < len(R): \n",
    "\t\t\tarr[k] = R[j] \n",
    "\t\t\tj+=1\n",
    "\t\t\tk+=1\n",
    "\n",
    "# Code to print the list \n",
    "def printList(arr): \n",
    "\tfor i in range(len(arr)):\t\t \n",
    "\t\tprint(arr[i],end=\" \") \n",
    "\tprint() \n",
    "\n",
    "# driver code to test the above code \n",
    "if __name__ == '__main__': \n",
    "\tarr = [12, 11, 13, 5, 6, 7] \n",
    "\tprint (\"Given array is\", end=\"\\n\") \n",
    "\tprintList(arr) \n",
    "\tmergeSort(arr) \n",
    "\tprint(\"Sorted array is: \", end=\"\\n\") \n",
    "\tprintList(arr) \n"
   ]
  },
  {
   "cell_type": "markdown",
   "metadata": {},
   "source": [
    "**Dutch National Flag**"
   ]
  },
  {
   "cell_type": "code",
   "execution_count": 27,
   "metadata": {},
   "outputs": [
    {
     "name": "stdout",
     "output_type": "stream",
     "text": [
      "Original Ball order: ['Blue', 'Blue', 'Red', 'Red', 'White']\n",
      "['White', 'Blue', 'Red', 'Red', 'Blue']\n",
      "['White', 'Blue', 'Red', 'Red', 'Blue']\n",
      "['White', 'Red', 'Red', 'Blue', 'Blue']\n",
      "['Red', 'White', 'Red', 'Blue', 'Blue']\n",
      "['Red', 'Red', 'White', 'Blue', 'Blue']\n",
      "Sorted Ball Order: ['Red', 'Red', 'White', 'Blue', 'Blue']\n"
     ]
    }
   ],
   "source": [
    "import random\n",
    " \n",
    "colours_in_order = 'Red White Blue'.split()\n",
    " \n",
    "def dutch_flag_sort(items):\n",
    " \n",
    "    lo, mid, hi = 0, 0, len(items)-1\n",
    "    while mid <= hi:\n",
    "        colour = items[mid]\n",
    "        if colour == 'Red':\n",
    "            items[lo], items[mid] = items[mid], items[lo]\n",
    "            lo += 1\n",
    "            mid += 1\n",
    "        elif colour == 'White':\n",
    "            mid += 1\n",
    "        else:\n",
    "            items[mid], items[hi] = items[hi], items[mid]\n",
    "            hi -= 1\n",
    "        print(items)\n",
    " \n",
    "def dutch_flag_check(items, order=colours_in_order):\n",
    "    'Return True if each item of items is in the given order'\n",
    "    order_of_items = [order.index(item) for item in items]\n",
    "    return all(x <= y for x, y in zip(order_of_items, order_of_items[1:]))\n",
    " \n",
    "def random_balls(mx=5):\n",
    "    'Select from 1 to mx balls of each colour, randomly'\n",
    "    balls = sum(([[colour] * random.randint(1, mx)\n",
    "                 for colour in colours_in_order]), [])\n",
    "    random.shuffle(balls)\n",
    "    return balls\n",
    " \n",
    "def main():\n",
    "    # Ensure we start unsorted\n",
    "    while 1:\n",
    "        balls = random_balls()\n",
    "        if not dutch_flag_check(balls):\n",
    "            break\n",
    "    print(\"Original Ball order:\", balls)\n",
    "    dutch_flag_sort(balls)\n",
    "    print(\"Sorted Ball Order:\", balls)\n",
    "    assert dutch_flag_check(balls), 'Whoops. Not sorted!'\n",
    " \n",
    "if __name__ == '__main__':\n",
    "    main()"
   ]
  },
  {
   "cell_type": "markdown",
   "metadata": {},
   "source": [
    "Jeremy's implementation"
   ]
  },
  {
   "cell_type": "code",
   "execution_count": 4,
   "metadata": {},
   "outputs": [
    {
     "name": "stdout",
     "output_type": "stream",
     "text": [
      "Original Ball order: ['White', 'White', 'Red', 'Red', 'Red', 'Red', 'Red', 'White', 'White', 'Blue', 'Blue', 'Blue', 'Blue', 'White']\n",
      "Sorted Ball Order: ['Red', 'Red', 'Red', 'Red', 'Red', 'White', 'White', 'White', 'White', 'White', 'Blue', 'Blue', 'Blue', 'Blue']\n"
     ]
    }
   ],
   "source": [
    "import random\n",
    " \n",
    "colours_in_order = 'Red White Blue'.split()\n",
    "\n",
    "def dutch_flag_sort(items):\n",
    "    r,w,b = 0,0,len(items)\n",
    "    while w<b:\n",
    "        if (items[w] == 'Red'):\n",
    "            items[r], items[w] = items[w], items[r]\n",
    "            r , w = r+1, w+1\n",
    "        elif (items[w] == 'White'):\n",
    "            w = w+1\n",
    "        else:\n",
    "            #item[w] == 'Blue'\n",
    "            items[w], items[b-1] = items[b-1], items[w]\n",
    "            b = b-1\n",
    "            \n",
    " \n",
    "def dutch_flag_check(items, order=colours_in_order):\n",
    "    'Return True if each item of items is in the given order'\n",
    "    order_of_items = [order.index(item) for item in items]\n",
    "    return all(x <= y for x, y in zip(order_of_items, order_of_items[1:]))\n",
    " \n",
    "def random_balls(mx=5):\n",
    "    'Select from 1 to mx balls of each colour, randomly'\n",
    "    balls = sum(([[colour] * random.randint(1, mx)\n",
    "                 for colour in colours_in_order]), [])\n",
    "    random.shuffle(balls)\n",
    "    return balls\n",
    " \n",
    "def main():\n",
    "    # Ensure we start unsorted\n",
    "    while 1:\n",
    "        balls = random_balls()\n",
    "        if not dutch_flag_check(balls):\n",
    "            break\n",
    "    print(\"Original Ball order:\", balls)\n",
    "    dutch_flag_sort(balls)\n",
    "    print(\"Sorted Ball Order:\", balls)\n",
    "    assert dutch_flag_check(balls), 'Whoops. Not sorted!'\n",
    " \n",
    "if __name__ == '__main__':\n",
    "    main()"
   ]
  },
  {
   "cell_type": "markdown",
   "metadata": {},
   "source": [
    "**Counting Sort**"
   ]
  },
  {
   "cell_type": "code",
   "execution_count": 35,
   "metadata": {},
   "outputs": [
    {
     "name": "stdout",
     "output_type": "stream",
     "text": [
      "Original Ball order: ['Blue', 'Blue', 'White', 'Blue', 'Red', 'White', 'Red', 'White', 'White', 'Blue', 'Red', 'Red', 'Blue']\n",
      "Sorted Ball Order: ['Red', 'Red', 'Red', 'Red', 'White', 'White', 'White', 'White', 'Blue', 'Blue', 'Blue', 'Blue', 'Blue']\n"
     ]
    }
   ],
   "source": [
    "colours_in_order = 'Red White Blue'.split()\n",
    "\n",
    "def counting_sort(items):\n",
    "    r,w,b = 0,0,0\n",
    "    for i in range(len(items)):\n",
    "        colour = items[i]\n",
    "        if(colour == 'Red'):\n",
    "            r= r+1\n",
    "        elif(colour == 'White'):\n",
    "            w= w+1\n",
    "        else:\n",
    "            b= b+1\n",
    "    for i in range(0, r):\n",
    "        items[i] = 'Red'\n",
    "    for i in range(r, r+w):\n",
    "        items[i] = 'White'\n",
    "    for i in range(r+w,r+w+b):\n",
    "        items[i] = 'Blue'\n",
    "\n",
    "def counting_sort_check(items, order=colours_in_order):\n",
    "    'Return True if each item of items is in the given order'\n",
    "    order_of_items = [order.index(item) for item in items]\n",
    "    return all(x <= y for x, y in zip(order_of_items, order_of_items[1:]))\n",
    " \n",
    "def random_balls(mx=5):\n",
    "    'Select from 1 to mx balls of each colour, randomly'\n",
    "    balls = sum(([[colour] * random.randint(1, mx)\n",
    "                 for colour in colours_in_order]), [])\n",
    "    random.shuffle(balls)\n",
    "    return balls\n",
    " \n",
    "def main():\n",
    "    # Ensure we start unsorted\n",
    "    while 1:\n",
    "        balls = random_balls()\n",
    "        if not counting_sort_check(balls):\n",
    "            break\n",
    "    print(\"Original Ball order:\", balls)\n",
    "    counting_sort(balls)\n",
    "    print(\"Sorted Ball Order:\", balls)\n",
    "    assert counting_sort_check(balls), 'Whoops. Not sorted!'\n",
    " \n",
    "if __name__ == '__main__':\n",
    "    main()"
   ]
  },
  {
   "cell_type": "markdown",
   "metadata": {},
   "source": [
    "**Quick Sort**"
   ]
  },
  {
   "cell_type": "code",
   "execution_count": 42,
   "metadata": {},
   "outputs": [
    {
     "name": "stdout",
     "output_type": "stream",
     "text": [
      "[-31, 0, 1, 2, 4, 65, 83, 99, 782]\n"
     ]
    }
   ],
   "source": [
    "def quicksort(items):\n",
    "    less = []\n",
    "    more = []\n",
    "    pivotlist = []\n",
    "    \n",
    "    if(len(items)<=1):\n",
    "        return items\n",
    "    else:\n",
    "        pivot = items[0]\n",
    "        for i in items:\n",
    "            if (i<pivot):\n",
    "                less.append(i)\n",
    "            elif (i>pivot):\n",
    "                more.append(i)\n",
    "            else:\n",
    "                pivotlist.append(i)\n",
    "        less = quicksort(less)\n",
    "        more = quicksort(more)\n",
    "        return less + pivotlist + more\n",
    "                \n",
    "a = [4, 65, 2, -31, 0, 99, 83, 782, 1]\n",
    "a = quicksort(a)\n",
    "print(a)"
   ]
  },
  {
   "cell_type": "markdown",
   "metadata": {},
   "source": [
    "Jeremy's version"
   ]
  },
  {
   "cell_type": "code",
   "execution_count": 49,
   "metadata": {},
   "outputs": [
    {
     "name": "stdout",
     "output_type": "stream",
     "text": [
      "[-99, -31, -6, 0, 2, 65, 83, 782, 1]\n"
     ]
    }
   ],
   "source": [
    "import statistics\n",
    "\n",
    "def quicksort(myList, start, end):\n",
    "    if start < end:\n",
    "        # partition the list\n",
    "        pivot = partition(myList, start, end)\n",
    "        # sort both halves\n",
    "        quicksort(myList, start, pivot-1)\n",
    "        quicksort(myList, pivot+1, end)\n",
    "    return myList\n",
    "\n",
    "def partition(myList, start, end):\n",
    "    pivot = 0\n",
    "    left = start+1\n",
    "    right = end\n",
    "    done = False\n",
    "    while not done:\n",
    "        while left <= right and myList[left] <= pivot:\n",
    "            left = left + 1\n",
    "        while myList[right] >= pivot and right >=left:\n",
    "            right = right -1\n",
    "        if right < left:\n",
    "            done= True\n",
    "        else:\n",
    "            # swap places\n",
    "            temp=myList[left]\n",
    "            myList[left]=myList[right]\n",
    "            myList[right]=temp\n",
    "    # swap start with myList[right]\n",
    "    temp=myList[start]\n",
    "    myList[start]=myList[right]\n",
    "    myList[right]=temp\n",
    "    return right\n",
    "\n",
    "a = [-6, 65, 2, -31, 0, -99, 83, 782, 1]\n",
    "a = quicksort(a, 0, len(a)-1)\n",
    "print(a)"
   ]
  },
  {
   "cell_type": "markdown",
   "metadata": {},
   "source": [
    "**Shell Sort**"
   ]
  },
  {
   "cell_type": "code",
   "execution_count": 47,
   "metadata": {},
   "outputs": [
    {
     "name": "stdout",
     "output_type": "stream",
     "text": [
      "[-5, 2, 4, 7, 8, 22]\n"
     ]
    }
   ],
   "source": [
    "def shell(seq):\n",
    "    increment = len(seq) // 2\n",
    "    while increment:\n",
    "        for i, el in enumerate(seq):\n",
    "            while i >= increment and seq[i - increment] > el:\n",
    "                seq[i] = seq[i - increment]\n",
    "                i -= increment\n",
    "            seq[i] = el\n",
    "        increment = 1 if increment == 2 else int(increment * 5.0 / 11)\n",
    " \n",
    "data = [22, 7, 2, -5, 8, 4]\n",
    "shell(data)\n",
    "print(data)"
   ]
  },
  {
   "cell_type": "code",
   "execution_count": 50,
   "metadata": {},
   "outputs": [],
   "source": [
    "def next_increment(i):\n",
    "    return (i-1)//2\n",
    "def first_increment(n):\n",
    "    i =1\n",
    "    while i<n:\n",
    "        i=2*i+1\n",
    "    return next_increment(i)"
   ]
  },
  {
   "cell_type": "code",
   "execution_count": 51,
   "metadata": {},
   "outputs": [
    {
     "name": "stdout",
     "output_type": "stream",
     "text": [
      "[-5, 2, 7, 8, 22, 4]\n"
     ]
    }
   ],
   "source": [
    "def shell(A):\n",
    "    i = first_increment(len(A))\n",
    "    while i >0:\n",
    "        for j in range(0,len(A)-1):\n",
    "            t,k = A[j], j\n",
    "            while k >=i and t<A[k-i]:\n",
    "                A[k], k = A[k-i], k-i\n",
    "            A[k] = t\n",
    "        i= next_increment(i)\n",
    "\n",
    "data = [22, 7, 2, -5, 8, 4]\n",
    "shell(data)\n",
    "print(data)\n",
    "        \n"
   ]
  },
  {
   "cell_type": "markdown",
   "metadata": {},
   "source": [
    "**Exercises**"
   ]
  },
  {
   "cell_type": "code",
   "execution_count": 43,
   "metadata": {},
   "outputs": [
    {
     "name": "stdout",
     "output_type": "stream",
     "text": [
      "[-22, -7, -2, -5, 4, 8]\n"
     ]
    }
   ],
   "source": [
    "def partition(A):\n",
    "    u, p = 0,len(A)-1\n",
    "    while(u!=p):\n",
    "        if(A[u]<0):\n",
    "            u = u+1\n",
    "        else:\n",
    "            A[u], A[p] = A[p], A[u]\n",
    "            p = p-1\n",
    "    return A\n",
    "\n",
    "data = [-22, -7, -2, -5, 8, 4]\n",
    "partition(data)\n",
    "print(data)"
   ]
  },
  {
   "cell_type": "code",
   "execution_count": 58,
   "metadata": {},
   "outputs": [
    {
     "name": "stdout",
     "output_type": "stream",
     "text": [
      "2\n",
      "[-22, -52, -22, 7, 8, 4]\n"
     ]
    }
   ],
   "source": [
    "\n",
    "def partition(a,p):    \n",
    "    left = 1\n",
    "    right= len(a)-1\n",
    "    pivot = p\n",
    "    while(True):\n",
    "        while(a[left]< a[pivot]):\n",
    "            left = left +1\n",
    "        while (a[right]>a[pivot]):\n",
    "            right = right -1\n",
    "        if(left>=right):\n",
    "            a[right], a[0] = a[0], a[right]\n",
    "            return right\n",
    "        a[left], a[right] = a[right], a[left]\n",
    "\n",
    "data = [-22, 7, -22, -52, 8, 4]\n",
    "\n",
    "print(partition(data,0))\n",
    "print(data)"
   ]
  },
  {
   "cell_type": "code",
   "execution_count": 65,
   "metadata": {},
   "outputs": [
    {
     "ename": "RecursionError",
     "evalue": "maximum recursion depth exceeded while calling a Python object",
     "output_type": "error",
     "traceback": [
      "\u001b[0;31m---------------------------------------------------------------------------\u001b[0m",
      "\u001b[0;31mRecursionError\u001b[0m                            Traceback (most recent call last)",
      "\u001b[0;32m<ipython-input-65-af1db0576ecb>\u001b[0m in \u001b[0;36m<module>\u001b[0;34m\u001b[0m\n\u001b[1;32m     12\u001b[0m \u001b[0;34m\u001b[0m\u001b[0m\n\u001b[1;32m     13\u001b[0m \u001b[0mdata\u001b[0m \u001b[0;34m=\u001b[0m \u001b[0;34m[\u001b[0m\u001b[0;34m-\u001b[0m\u001b[0;36m22\u001b[0m\u001b[0;34m,\u001b[0m \u001b[0;36m7\u001b[0m\u001b[0;34m,\u001b[0m \u001b[0;34m-\u001b[0m\u001b[0;36m2\u001b[0m\u001b[0;34m,\u001b[0m \u001b[0;34m-\u001b[0m\u001b[0;36m52\u001b[0m\u001b[0;34m,\u001b[0m \u001b[0;36m8\u001b[0m\u001b[0;34m,\u001b[0m \u001b[0;36m4\u001b[0m\u001b[0;34m]\u001b[0m\u001b[0;34m\u001b[0m\u001b[0;34m\u001b[0m\u001b[0m\n\u001b[0;32m---> 14\u001b[0;31m \u001b[0mprint\u001b[0m\u001b[0;34m(\u001b[0m\u001b[0mquickselect\u001b[0m\u001b[0;34m(\u001b[0m\u001b[0mdata\u001b[0m\u001b[0;34m,\u001b[0m\u001b[0;36m3\u001b[0m\u001b[0;34m)\u001b[0m\u001b[0;34m)\u001b[0m\u001b[0;34m\u001b[0m\u001b[0;34m\u001b[0m\u001b[0m\n\u001b[0m",
      "\u001b[0;32m<ipython-input-65-af1db0576ecb>\u001b[0m in \u001b[0;36mquickselect\u001b[0;34m(a, k)\u001b[0m\n\u001b[1;32m      9\u001b[0m         \u001b[0;32mreturn\u001b[0m \u001b[0ma\u001b[0m\u001b[0;34m[\u001b[0m\u001b[0mk\u001b[0m\u001b[0;34m]\u001b[0m\u001b[0;34m\u001b[0m\u001b[0;34m\u001b[0m\u001b[0m\n\u001b[1;32m     10\u001b[0m     \u001b[0;32melse\u001b[0m\u001b[0;34m:\u001b[0m\u001b[0;34m\u001b[0m\u001b[0;34m\u001b[0m\u001b[0m\n\u001b[0;32m---> 11\u001b[0;31m         \u001b[0mquickselect\u001b[0m\u001b[0;34m(\u001b[0m\u001b[0ma\u001b[0m\u001b[0;34m[\u001b[0m\u001b[0mi\u001b[0m\u001b[0;34m:\u001b[0m\u001b[0;34m]\u001b[0m\u001b[0;34m,\u001b[0m\u001b[0mk\u001b[0m\u001b[0;34m)\u001b[0m\u001b[0;34m\u001b[0m\u001b[0;34m\u001b[0m\u001b[0m\n\u001b[0m\u001b[1;32m     12\u001b[0m \u001b[0;34m\u001b[0m\u001b[0m\n\u001b[1;32m     13\u001b[0m \u001b[0mdata\u001b[0m \u001b[0;34m=\u001b[0m \u001b[0;34m[\u001b[0m\u001b[0;34m-\u001b[0m\u001b[0;36m22\u001b[0m\u001b[0;34m,\u001b[0m \u001b[0;36m7\u001b[0m\u001b[0;34m,\u001b[0m \u001b[0;34m-\u001b[0m\u001b[0;36m2\u001b[0m\u001b[0;34m,\u001b[0m \u001b[0;34m-\u001b[0m\u001b[0;36m52\u001b[0m\u001b[0;34m,\u001b[0m \u001b[0;36m8\u001b[0m\u001b[0;34m,\u001b[0m \u001b[0;36m4\u001b[0m\u001b[0;34m]\u001b[0m\u001b[0;34m\u001b[0m\u001b[0;34m\u001b[0m\u001b[0m\n",
      "... last 1 frames repeated, from the frame below ...\n",
      "\u001b[0;32m<ipython-input-65-af1db0576ecb>\u001b[0m in \u001b[0;36mquickselect\u001b[0;34m(a, k)\u001b[0m\n\u001b[1;32m      9\u001b[0m         \u001b[0;32mreturn\u001b[0m \u001b[0ma\u001b[0m\u001b[0;34m[\u001b[0m\u001b[0mk\u001b[0m\u001b[0;34m]\u001b[0m\u001b[0;34m\u001b[0m\u001b[0;34m\u001b[0m\u001b[0m\n\u001b[1;32m     10\u001b[0m     \u001b[0;32melse\u001b[0m\u001b[0;34m:\u001b[0m\u001b[0;34m\u001b[0m\u001b[0;34m\u001b[0m\u001b[0m\n\u001b[0;32m---> 11\u001b[0;31m         \u001b[0mquickselect\u001b[0m\u001b[0;34m(\u001b[0m\u001b[0ma\u001b[0m\u001b[0;34m[\u001b[0m\u001b[0mi\u001b[0m\u001b[0;34m:\u001b[0m\u001b[0;34m]\u001b[0m\u001b[0;34m,\u001b[0m\u001b[0mk\u001b[0m\u001b[0;34m)\u001b[0m\u001b[0;34m\u001b[0m\u001b[0;34m\u001b[0m\u001b[0m\n\u001b[0m\u001b[1;32m     12\u001b[0m \u001b[0;34m\u001b[0m\u001b[0m\n\u001b[1;32m     13\u001b[0m \u001b[0mdata\u001b[0m \u001b[0;34m=\u001b[0m \u001b[0;34m[\u001b[0m\u001b[0;34m-\u001b[0m\u001b[0;36m22\u001b[0m\u001b[0;34m,\u001b[0m \u001b[0;36m7\u001b[0m\u001b[0;34m,\u001b[0m \u001b[0;34m-\u001b[0m\u001b[0;36m2\u001b[0m\u001b[0;34m,\u001b[0m \u001b[0;34m-\u001b[0m\u001b[0;36m52\u001b[0m\u001b[0;34m,\u001b[0m \u001b[0;36m8\u001b[0m\u001b[0;34m,\u001b[0m \u001b[0;36m4\u001b[0m\u001b[0;34m]\u001b[0m\u001b[0;34m\u001b[0m\u001b[0;34m\u001b[0m\u001b[0m\n",
      "\u001b[0;31mRecursionError\u001b[0m: maximum recursion depth exceeded while calling a Python object"
     ]
    }
   ],
   "source": [
    "def quickselect(a,k):\n",
    "    pivot = 0\n",
    "    i = partition(a,pivot)\n",
    "    left =i-1\n",
    "    right =i+1\n",
    "    if(k<left):\n",
    "        quickselect(a[:i],k)\n",
    "    elif(k<right):\n",
    "        return a[k]\n",
    "    else:\n",
    "        quickselect(a[i:],k)\n",
    "\n",
    "data = [-22, 7, -2, -52, 8, 4]\n",
    "print(quickselect(data,3))"
   ]
  },
  {
   "cell_type": "code",
   "execution_count": null,
   "metadata": {},
   "outputs": [],
   "source": []
  }
 ],
 "metadata": {
  "kernelspec": {
   "display_name": "Python 3",
   "language": "python",
   "name": "python3"
  },
  "language_info": {
   "codemirror_mode": {
    "name": "ipython",
    "version": 3
   },
   "file_extension": ".py",
   "mimetype": "text/x-python",
   "name": "python",
   "nbconvert_exporter": "python",
   "pygments_lexer": "ipython3",
   "version": "3.7.1"
  }
 },
 "nbformat": 4,
 "nbformat_minor": 2
}
